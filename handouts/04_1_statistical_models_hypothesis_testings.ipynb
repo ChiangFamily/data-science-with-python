{
 "cells": [
  {
   "cell_type": "code",
   "execution_count": 1,
   "metadata": {},
   "outputs": [],
   "source": [
    "%matplotlib inline\n",
    "import numpy as np\n",
    "import matplotlib as mpl\n",
    "import matplotlib.pyplot as plt\n",
    "import pandas as pd\n",
    "import seaborn as sns\n",
    "sns.set(font='Noto Sans CJK TC')\n",
    "mpl.style.use('ggplot')  # must put after sns.set"
   ]
  },
  {
   "cell_type": "code",
   "execution_count": 2,
   "metadata": {},
   "outputs": [],
   "source": [
    "from scipy.stats import ttest_ind\n",
    "from statsmodels.stats.power import tt_ind_solve_power"
   ]
  },
  {
   "cell_type": "markdown",
   "metadata": {},
   "source": [
    "# Identify Boring or Interesting – Hypothesis Testings"
   ]
  },
  {
   "cell_type": "markdown",
   "metadata": {},
   "source": [
    "## Hypotheses\n",
    "\n",
    "* Null hypothesis, $ H_0 $: the boring part, e.g., the medicine has no effect.\n",
    "* Alternative hypothesis, $ H_1 $: the interesting part, e.g., the medicine saves lives!\n",
    "\n",
    "## P-Value\n",
    "\n",
    "<img style=\"float: left; width: 50%;\" alt=\"P-value_in_statistical_significance_testing.svg\" src=\"https://upload.wikimedia.org/wikipedia/commons/3/3a/P-value_in_statistical_significance_testing.svg\">\n",
    "<div style=\"clear: both\"></div>\n",
    "\n",
    "* P-value:\n",
    "    * The probability of making mistakes.\n",
    "    * The probability we reject the null hypothesis, when it's true.\n",
    "    * $ \\text{p-value} = P(\\text{reject }H_0 | H_0\\text{: true} ) $\n",
    "    * < 0.001: extremely significant.\n",
    "    * < 0.01: very significant.\n",
    "    * < 0.05: significant.\n",
    "    * ≥ 0.05: not significant."
   ]
  },
  {
   "cell_type": "markdown",
   "metadata": {},
   "source": [
    "## T-Test\n",
    "\n",
    "$ H_0 $: the means of two populations are equal."
   ]
  },
  {
   "cell_type": "code",
   "execution_count": 3,
   "metadata": {},
   "outputs": [
    {
     "data": {
      "text/html": [
       "<div>\n",
       "<style scoped>\n",
       "    .dataframe tbody tr th:only-of-type {\n",
       "        vertical-align: middle;\n",
       "    }\n",
       "\n",
       "    .dataframe tbody tr th {\n",
       "        vertical-align: top;\n",
       "    }\n",
       "\n",
       "    .dataframe thead th {\n",
       "        text-align: right;\n",
       "    }\n",
       "</style>\n",
       "<table border=\"1\" class=\"dataframe\">\n",
       "  <thead>\n",
       "    <tr style=\"text-align: right;\">\n",
       "      <th></th>\n",
       "      <th>height</th>\n",
       "      <th>weight</th>\n",
       "      <th>age</th>\n",
       "      <th>male</th>\n",
       "    </tr>\n",
       "  </thead>\n",
       "  <tbody>\n",
       "    <tr>\n",
       "      <th>0</th>\n",
       "      <td>151.765</td>\n",
       "      <td>47.825606</td>\n",
       "      <td>63.0</td>\n",
       "      <td>1</td>\n",
       "    </tr>\n",
       "    <tr>\n",
       "      <th>1</th>\n",
       "      <td>139.700</td>\n",
       "      <td>36.485807</td>\n",
       "      <td>63.0</td>\n",
       "      <td>0</td>\n",
       "    </tr>\n",
       "    <tr>\n",
       "      <th>2</th>\n",
       "      <td>136.525</td>\n",
       "      <td>31.864838</td>\n",
       "      <td>65.0</td>\n",
       "      <td>0</td>\n",
       "    </tr>\n",
       "    <tr>\n",
       "      <th>3</th>\n",
       "      <td>156.845</td>\n",
       "      <td>53.041915</td>\n",
       "      <td>41.0</td>\n",
       "      <td>1</td>\n",
       "    </tr>\n",
       "    <tr>\n",
       "      <th>4</th>\n",
       "      <td>145.415</td>\n",
       "      <td>41.276872</td>\n",
       "      <td>51.0</td>\n",
       "      <td>0</td>\n",
       "    </tr>\n",
       "  </tbody>\n",
       "</table>\n",
       "</div>"
      ],
      "text/plain": [
       "    height     weight   age  male\n",
       "0  151.765  47.825606  63.0     1\n",
       "1  139.700  36.485807  63.0     0\n",
       "2  136.525  31.864838  65.0     0\n",
       "3  156.845  53.041915  41.0     1\n",
       "4  145.415  41.276872  51.0     0"
      ]
     },
     "metadata": {},
     "output_type": "display_data"
    },
    {
     "data": {
      "text/html": [
       "<div>\n",
       "<style scoped>\n",
       "    .dataframe tbody tr th:only-of-type {\n",
       "        vertical-align: middle;\n",
       "    }\n",
       "\n",
       "    .dataframe tbody tr th {\n",
       "        vertical-align: top;\n",
       "    }\n",
       "\n",
       "    .dataframe thead th {\n",
       "        text-align: right;\n",
       "    }\n",
       "</style>\n",
       "<table border=\"1\" class=\"dataframe\">\n",
       "  <thead>\n",
       "    <tr style=\"text-align: right;\">\n",
       "      <th></th>\n",
       "      <th>height</th>\n",
       "      <th>weight</th>\n",
       "      <th>age</th>\n",
       "      <th>male</th>\n",
       "    </tr>\n",
       "  </thead>\n",
       "  <tbody>\n",
       "    <tr>\n",
       "      <th>539</th>\n",
       "      <td>145.415</td>\n",
       "      <td>31.127751</td>\n",
       "      <td>17.0</td>\n",
       "      <td>1</td>\n",
       "    </tr>\n",
       "    <tr>\n",
       "      <th>540</th>\n",
       "      <td>162.560</td>\n",
       "      <td>52.163080</td>\n",
       "      <td>31.0</td>\n",
       "      <td>1</td>\n",
       "    </tr>\n",
       "    <tr>\n",
       "      <th>541</th>\n",
       "      <td>156.210</td>\n",
       "      <td>54.062496</td>\n",
       "      <td>21.0</td>\n",
       "      <td>0</td>\n",
       "    </tr>\n",
       "    <tr>\n",
       "      <th>542</th>\n",
       "      <td>71.120</td>\n",
       "      <td>8.051258</td>\n",
       "      <td>0.0</td>\n",
       "      <td>1</td>\n",
       "    </tr>\n",
       "    <tr>\n",
       "      <th>543</th>\n",
       "      <td>158.750</td>\n",
       "      <td>52.531624</td>\n",
       "      <td>68.0</td>\n",
       "      <td>1</td>\n",
       "    </tr>\n",
       "  </tbody>\n",
       "</table>\n",
       "</div>"
      ],
      "text/plain": [
       "      height     weight   age  male\n",
       "539  145.415  31.127751  17.0     1\n",
       "540  162.560  52.163080  31.0     1\n",
       "541  156.210  54.062496  21.0     0\n",
       "542   71.120   8.051258   0.0     1\n",
       "543  158.750  52.531624  68.0     1"
      ]
     },
     "metadata": {},
     "output_type": "display_data"
    },
    {
     "data": {
      "text/plain": [
       "(544, 4)"
      ]
     },
     "metadata": {},
     "output_type": "display_data"
    }
   ],
   "source": [
    "howell1_df = pd.read_csv('dataset_howell1.csv', sep=';')\n",
    "display(howell1_df.head(), howell1_df.tail(), howell1_df.shape)"
   ]
  },
  {
   "cell_type": "markdown",
   "metadata": {},
   "source": [
    "### Men vs. Women\n",
    "\n",
    "* $ H_0 $: men and women have the same mean of heights.\n",
    "* $ H_1 $: men and women have different mean of heights."
   ]
  },
  {
   "cell_type": "code",
   "execution_count": 4,
   "metadata": {},
   "outputs": [],
   "source": [
    "df = howell1_df"
   ]
  },
  {
   "cell_type": "code",
   "execution_count": 5,
   "metadata": {},
   "outputs": [
    {
     "data": {
      "text/html": [
       "<div>\n",
       "<style scoped>\n",
       "    .dataframe tbody tr th:only-of-type {\n",
       "        vertical-align: middle;\n",
       "    }\n",
       "\n",
       "    .dataframe tbody tr th {\n",
       "        vertical-align: top;\n",
       "    }\n",
       "\n",
       "    .dataframe thead th {\n",
       "        text-align: right;\n",
       "    }\n",
       "</style>\n",
       "<table border=\"1\" class=\"dataframe\">\n",
       "  <thead>\n",
       "    <tr style=\"text-align: right;\">\n",
       "      <th></th>\n",
       "      <th>count</th>\n",
       "      <th>mean</th>\n",
       "      <th>std</th>\n",
       "      <th>min</th>\n",
       "      <th>25%</th>\n",
       "      <th>50%</th>\n",
       "      <th>75%</th>\n",
       "      <th>max</th>\n",
       "    </tr>\n",
       "    <tr>\n",
       "      <th>male</th>\n",
       "      <th></th>\n",
       "      <th></th>\n",
       "      <th></th>\n",
       "      <th></th>\n",
       "      <th></th>\n",
       "      <th></th>\n",
       "      <th></th>\n",
       "      <th></th>\n",
       "    </tr>\n",
       "  </thead>\n",
       "  <tbody>\n",
       "    <tr>\n",
       "      <th>0</th>\n",
       "      <td>287.0</td>\n",
       "      <td>134.630278</td>\n",
       "      <td>25.930233</td>\n",
       "      <td>53.975</td>\n",
       "      <td>125.2474</td>\n",
       "      <td>146.05</td>\n",
       "      <td>151.130</td>\n",
       "      <td>162.56</td>\n",
       "    </tr>\n",
       "    <tr>\n",
       "      <th>1</th>\n",
       "      <td>257.0</td>\n",
       "      <td>142.321037</td>\n",
       "      <td>28.871320</td>\n",
       "      <td>60.452</td>\n",
       "      <td>124.9934</td>\n",
       "      <td>157.48</td>\n",
       "      <td>161.925</td>\n",
       "      <td>179.07</td>\n",
       "    </tr>\n",
       "  </tbody>\n",
       "</table>\n",
       "</div>"
      ],
      "text/plain": [
       "      count        mean        std     min       25%     50%      75%     max\n",
       "male                                                                         \n",
       "0     287.0  134.630278  25.930233  53.975  125.2474  146.05  151.130  162.56\n",
       "1     257.0  142.321037  28.871320  60.452  124.9934  157.48  161.925  179.07"
      ]
     },
     "execution_count": 5,
     "metadata": {},
     "output_type": "execute_result"
    }
   ],
   "source": [
    "df['height'].groupby(df.male).describe()"
   ]
  },
  {
   "cell_type": "code",
   "execution_count": 6,
   "metadata": {},
   "outputs": [
    {
     "data": {
      "text/plain": [
       "<matplotlib.axes._subplots.AxesSubplot at 0x115018748>"
      ]
     },
     "execution_count": 6,
     "metadata": {},
     "output_type": "execute_result"
    },
    {
     "data": {
      "image/png": "[encoded data removed]",
      "text/plain": [
       "<matplotlib.figure.Figure at 0x115018518>"
      ]
     },
     "metadata": {},
     "output_type": "display_data"
    }
   ],
   "source": [
    "sns.distplot(df[df.male == 0].height)\n",
    "sns.distplot(df[df.male == 1].height)"
   ]
  },
  {
   "cell_type": "code",
   "execution_count": 7,
   "metadata": {},
   "outputs": [
    {
     "data": {
      "text/plain": [
       "Ttest_indResult(statistic=-3.2732568510643181, pvalue=0.0011309256622558707)"
      ]
     },
     "execution_count": 7,
     "metadata": {},
     "output_type": "execute_result"
    }
   ],
   "source": [
    "ttest_ind(df[df.male == 0].height, df[df.male == 1].height)"
   ]
  },
  {
   "cell_type": "markdown",
   "metadata": {},
   "source": [
    "### Two Random Groups\n",
    "\n",
    "* $ H_0 $: The random groups have the same mean of heights.\n",
    "* $ H_1 $: The random groups have different mean of heights."
   ]
  },
  {
   "cell_type": "code",
   "execution_count": 8,
   "metadata": {},
   "outputs": [],
   "source": [
    "df = howell1_df.copy()"
   ]
  },
  {
   "cell_type": "code",
   "execution_count": 9,
   "metadata": {},
   "outputs": [],
   "source": [
    "df['randint'] = np.random.randint(2, size=len(df))"
   ]
  },
  {
   "cell_type": "code",
   "execution_count": 10,
   "metadata": {},
   "outputs": [
    {
     "data": {
      "text/html": [
       "<div>\n",
       "<style scoped>\n",
       "    .dataframe tbody tr th:only-of-type {\n",
       "        vertical-align: middle;\n",
       "    }\n",
       "\n",
       "    .dataframe tbody tr th {\n",
       "        vertical-align: top;\n",
       "    }\n",
       "\n",
       "    .dataframe thead th {\n",
       "        text-align: right;\n",
       "    }\n",
       "</style>\n",
       "<table border=\"1\" class=\"dataframe\">\n",
       "  <thead>\n",
       "    <tr style=\"text-align: right;\">\n",
       "      <th></th>\n",
       "      <th>count</th>\n",
       "      <th>mean</th>\n",
       "      <th>std</th>\n",
       "      <th>min</th>\n",
       "      <th>25%</th>\n",
       "      <th>50%</th>\n",
       "      <th>75%</th>\n",
       "      <th>max</th>\n",
       "    </tr>\n",
       "    <tr>\n",
       "      <th>randint</th>\n",
       "      <th></th>\n",
       "      <th></th>\n",
       "      <th></th>\n",
       "      <th></th>\n",
       "      <th></th>\n",
       "      <th></th>\n",
       "      <th></th>\n",
       "      <th></th>\n",
       "    </tr>\n",
       "  </thead>\n",
       "  <tbody>\n",
       "    <tr>\n",
       "      <th>0</th>\n",
       "      <td>281.0</td>\n",
       "      <td>138.437606</td>\n",
       "      <td>27.873983</td>\n",
       "      <td>55.880</td>\n",
       "      <td>125.3998</td>\n",
       "      <td>149.2250</td>\n",
       "      <td>158.115</td>\n",
       "      <td>179.07</td>\n",
       "    </tr>\n",
       "    <tr>\n",
       "      <th>1</th>\n",
       "      <td>263.0</td>\n",
       "      <td>138.077678</td>\n",
       "      <td>27.361236</td>\n",
       "      <td>53.975</td>\n",
       "      <td>125.0950</td>\n",
       "      <td>148.2852</td>\n",
       "      <td>156.845</td>\n",
       "      <td>171.45</td>\n",
       "    </tr>\n",
       "  </tbody>\n",
       "</table>\n",
       "</div>"
      ],
      "text/plain": [
       "         count        mean        std     min       25%       50%      75%  \\\n",
       "randint                                                                      \n",
       "0        281.0  138.437606  27.873983  55.880  125.3998  149.2250  158.115   \n",
       "1        263.0  138.077678  27.361236  53.975  125.0950  148.2852  156.845   \n",
       "\n",
       "            max  \n",
       "randint          \n",
       "0        179.07  \n",
       "1        171.45  "
      ]
     },
     "execution_count": 10,
     "metadata": {},
     "output_type": "execute_result"
    }
   ],
   "source": [
    "df['height'].groupby(df.randint).describe()"
   ]
  },
  {
   "cell_type": "code",
   "execution_count": 11,
   "metadata": {},
   "outputs": [
    {
     "data": {
      "text/plain": [
       "<matplotlib.axes._subplots.AxesSubplot at 0x115018b38>"
      ]
     },
     "execution_count": 11,
     "metadata": {},
     "output_type": "execute_result"
    },
    {
     "data": {
      "image/png": "[encoded data removed]",
      "text/plain": [
       "<matplotlib.figure.Figure at 0x11507f470>"
      ]
     },
     "metadata": {},
     "output_type": "display_data"
    }
   ],
   "source": [
    "sns.distplot(df[df.randint == 0].height)\n",
    "sns.distplot(df[df.randint == 1].height)"
   ]
  },
  {
   "cell_type": "code",
   "execution_count": 12,
   "metadata": {},
   "outputs": [
    {
     "data": {
      "text/plain": [
       "Ttest_indResult(statistic=0.15184788340284686, pvalue=0.87936341870648638)"
      ]
     },
     "execution_count": 12,
     "metadata": {},
     "output_type": "execute_result"
    }
   ],
   "source": [
    "ttest_ind(df[df.randint == 0].height, df[df.randint == 1].height)"
   ]
  },
  {
   "cell_type": "markdown",
   "metadata": {},
   "source": [
    "## Power Analysis"
   ]
  },
  {
   "cell_type": "code",
   "execution_count": 13,
   "metadata": {},
   "outputs": [
    {
     "data": {
      "text/plain": [
       "16.71472257227619"
      ]
     },
     "execution_count": 13,
     "metadata": {},
     "output_type": "execute_result"
    }
   ],
   "source": [
    "# nobs2 = nobs1 * ratio\n",
    "\n",
    "# false positive rate = type I error rate = α\n",
    "# significance level = α\n",
    "\n",
    "# confidence level = 信心水準 = γ = 1 - α\n",
    "\n",
    "# false negative rate = type II error rate = β\n",
    "# statistical power = 檢定力 = 1 - β\n",
    "\n",
    "tt_ind_solve_power(effect_size=1, nobs1=None, alpha=0.05, power=0.8, ratio=1)"
   ]
  },
  {
   "cell_type": "markdown",
   "metadata": {},
   "source": [
    "## Dig More\n",
    "\n",
    "* [P-value – Wikipedia](https://en.wikipedia.org/wiki/P-value)\n",
    "* [Student's t-test – Wikipedia](https://en.wikipedia.org/wiki/Student%27s_t-test)\n",
    "* [Student's t-distribution – Wikipedia](https://en.wikipedia.org/wiki/Student%27s_t-distribution)\n",
    "* [Choosing Between a Nonparametric Test and a Parametric Test – Minitab](http://blog.minitab.com/blog/adventures-in-statistics-2/choosing-between-a-nonparametric-test-and-a-parametric-test) *[recommended]*\n",
    "* [ttest_ind – SciPy](https://docs.scipy.org/doc/scipy/reference/generated/scipy.stats.ttest_ind.html)\n",
    "* [tt_ind_solve_power – StatsModels](http://www.statsmodels.org/dev/generated/statsmodels.stats.power.tt_ind_solve_power.html)"
   ]
  }
 ],
 "metadata": {
  "kernelspec": {
   "display_name": "Python 3 (data-science-with-python)",
   "language": "python",
   "name": "python3-data-science-with-python"
  },
  "language_info": {
   "codemirror_mode": {
    "name": "ipython",
    "version": 3
   },
   "file_extension": ".py",
   "mimetype": "text/x-python",
   "name": "python",
   "nbconvert_exporter": "python",
   "pygments_lexer": "ipython3",
   "version": "3.6.3"
  },
  "toc": {
   "nav_menu": {},
   "number_sections": true,
   "sideBar": true,
   "skip_h1_title": true,
   "toc_cell": false,
   "toc_position": {},
   "toc_section_display": "block",
   "toc_window_display": false
  }
 },
 "nbformat": 4,
 "nbformat_minor": 2
}
